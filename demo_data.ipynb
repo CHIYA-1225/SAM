{
 "cells": [
  {
   "cell_type": "code",
   "execution_count": 1,
   "metadata": {},
   "outputs": [],
   "source": [
    "from scipy.stats import multivariate_normal\n",
    "import numpy as np\n",
    "\n",
    "def multiclass_data (n,m,Cov1,Cov2,Cov3,name):\n",
    "    #用多變量常態生成資料\n",
    "    mvn1 = multivariate_normal(mean = m[0], cov = Cov1)\n",
    "    mvn2 = multivariate_normal(mean = m[1], cov = Cov2)\n",
    "    mvn3 = multivariate_normal(mean = m[2], cov = Cov3)\n",
    "    A, B ,C= mvn1.rvs(n[0]), mvn2.rvs(n[1]), mvn3.rvs(n[2])\n",
    "    X = np.vstack((A, B, C))\n",
    "\n",
    "    y2=[] \n",
    "    for i in range(200):\n",
    "        y2.append(2)\n",
    "\n",
    "    y = np.hstack((np.zeros(n[0]), np.ones(n[1]), y2 ))\n",
    "    np.savetxt(\"demo_data_%s.txt\" %name, np.c_[X, y],\\\n",
    "    fmt = \"%.4f %.4f %d\", header = \"X1 X2 y\")\n",
    "    return X,y\n"
   ]
  }
 ],
 "metadata": {
  "kernelspec": {
   "display_name": "Python 3.8.8 ('base')",
   "language": "python",
   "name": "python3"
  },
  "language_info": {
   "codemirror_mode": {
    "name": "ipython",
    "version": 3
   },
   "file_extension": ".py",
   "mimetype": "text/x-python",
   "name": "python",
   "nbconvert_exporter": "python",
   "pygments_lexer": "ipython3",
   "version": "3.8.8"
  },
  "orig_nbformat": 4,
  "vscode": {
   "interpreter": {
    "hash": "a077222d77dfe082b8f1dd562ad70e458ac2ab76993a0b248ab0476e32e9e8dd"
   }
  }
 },
 "nbformat": 4,
 "nbformat_minor": 2
}
