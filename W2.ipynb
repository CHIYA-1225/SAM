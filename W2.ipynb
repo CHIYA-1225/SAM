{
 "cells": [
  {
   "cell_type": "code",
   "execution_count": 3,
   "metadata": {},
   "outputs": [
    {
     "name": "stdout",
     "output_type": "stream",
     "text": [
      "1234.57\n"
     ]
    }
   ],
   "source": [
    "#%% 1. Numbers\n",
    " \n",
    "int_number = 1\n",
    "float_number = 1.0\n",
    "complex_number = 1 + 2j\n",
    "round_float = round(1234.5678, 2)\n",
    "str2int = int('213')\n",
    " \n",
    "print(round_float)\n"
   ]
  },
  {
   "cell_type": "code",
   "execution_count": 16,
   "metadata": {},
   "outputs": [],
   "source": [
    "number_list = [0, 1, 1, 2, 3, 5, 8]\n",
    "slicing_4_a_specific_pos = number_list[3]\n",
    "slicing_4_the_last_pos = number_list[-1]\n",
    "slicing_4_consecutive_pos = number_list[0:3]\n",
    "slicing_4_the_last_three = number_list[-3:]\n",
    " \n",
    "list_list = [[1, 2, 3], [4, 5, 6]]  # list of list\n",
    "A_list = list_list[0]\n",
    "A_ist_list = list_list[0:2]\n",
    "A_number = list_list[1][2]\n"
   ]
  },
  {
   "cell_type": "code",
   "execution_count": 17,
   "metadata": {},
   "outputs": [
    {
     "name": "stdout",
     "output_type": "stream",
     "text": [
      "3\n",
      "(3, 1)\n",
      "[4 5 6]\n",
      "[2 5]\n",
      "[[1 2]\n",
      " [4 5]]\n",
      "[[2 3]\n",
      " [5 6]]\n",
      "[[2 3]\n",
      " [5 6]]\n"
     ]
    }
   ],
   "source": [
    "# Array and slicing\n",
    "import numpy as np\n",
    "  \n",
    "a = np.array([1, 2, 3]) # a vector has no direction\n",
    "A = np.array([[1, 2, 3]]) # a 1 x 3 array that can be transposed\n",
    "a_T = a[:, np.newaxis] # a' although a has no direction\n",
    "A_T = A.T # A'\n",
    "B = A.reshape(-1, 1) # A'\n",
    "C = np.array([1, 2, 3], ndmin = 2) # convert a to A\n",
    "print(np.size(a))  # == print(a.size) number of elements in a\n",
    "print(np.shape(A_T))  # == print(A_T.shape) , array dimension\n",
    " \n",
    "D = np.array([[1, 2, 3],[4, 5, 6]])\n",
    "print(D[1]) # D[1] = D[1,:] # second row and all columns\n",
    "print(D[:, 1])\n",
    "print(D[:, 0:-1])\n",
    "print(D[:, 1:])\n",
    "print(D[:, -2:])"
   ]
  },
  {
   "cell_type": "code",
   "execution_count": 6,
   "metadata": {},
   "outputs": [],
   "source": [
    "# vector concatenation\n",
    " \n",
    "va = np.array([1, 2, 3])\n",
    "vb = np.array([4, 5, 6])\n",
    "vc = np.concatenate((va, vb), axis = 0) # flatten a, b; try axis=1\n",
    "vd = np.append(va, vb)\n",
    "ve = np.hstack((va, vb)) \n",
    "vF = np.vstack((va, vb))\n",
    "vg = np.r_[va, vb]\n",
    "vG = np.c_[va, vb]\n",
    "vH = (va, vb) # a tuple"
   ]
  },
  {
   "cell_type": "code",
   "execution_count": 7,
   "metadata": {},
   "outputs": [],
   "source": [
    "#matrix concatenation\n",
    " \n",
    "ma = np.array([[1, 2, 3]]) # 1 x 3\n",
    "mb = np.array([[4, 5, 6]]) # 1 x 3\n",
    "mc = np.hstack((ma, mb))   # 1 x 6\n",
    "  \n",
    "# Vertically, concatenate row-wisely \n",
    "mC = np.concatenate((ma, mb), axis = 0) # 2 x 3\n",
    "mD = np.r_[ma, mb] # 2 x 3\n",
    "mE = np.vstack((ma,mb)) #2 x 3\n",
    "  \n",
    "# Horizontally, concatenate column-wisely\n",
    "mF = np.concatenate((ma.T, mb.T), axis =1) # 3 x 2\n",
    "mG = np.hstack((ma.T, mb.T)) # 3 x 2\n",
    "mH = np.c_[ma.T, mb.T] # 3 x 2"
   ]
  },
  {
   "cell_type": "code",
   "execution_count": 8,
   "metadata": {},
   "outputs": [
    {
     "name": "stdout",
     "output_type": "stream",
     "text": [
      "[[1 3 2]\n",
      " [6 5 4]]\n",
      "6\n",
      "[6 5 4]\n",
      "[3 6]\n"
     ]
    }
   ],
   "source": [
    "S = np.array([[1, 3, 2], [6, 5, 4]])\n",
    "print(S)\n",
    "print(S.max())\n",
    "print(S.max(0)) # column max\n",
    "print(np.max(S, axis = 1)) # row max\n",
    " \n",
    "a = S.flatten() # turn into vector\n",
    "b = S.flatten('F') # turn into vector column-wise\n",
    "S[S < 3] = 0 # check what S looks like\n",
    " \n",
    "c = [1, 2, 3, 4]\n",
    "C = np.tile(c,(5,1)) # 5 x 4 matrix\n",
    "d = np.reshape(C, (-1, 1)) # convert to Column vector"
   ]
  },
  {
   "cell_type": "code",
   "execution_count": 9,
   "metadata": {},
   "outputs": [],
   "source": [
    "a_tuple = (0, 0) # ordered sequence\n",
    "also_a_tuple = 0, 0\n",
    "a_3d_tuple = (0, 1, 2) # (2,1,0) is different, however the list  [0,1,2] := [1,2,0]"
   ]
  },
  {
   "cell_type": "code",
   "execution_count": 10,
   "metadata": {},
   "outputs": [],
   "source": [
    "import numpy as np\n",
    " \n",
    "Z = np.zeros((3,4)) # 3 x 4 zero matrix\n",
    "One =  np.ones((3,4)) # 3 x 4 one matrix\n",
    "I = np.eye(3) # 3 x 3 identity matrix\n",
    "D = np.diag([1, 2, 3, 4]) # a diagonal matrix\n",
    "e = np.diag(I) # the diagonal of I"
   ]
  },
  {
   "cell_type": "code",
   "execution_count": 11,
   "metadata": {},
   "outputs": [],
   "source": [
    "import numpy as np\n",
    "  \n",
    "x0 = [1, 2, 3, 4, 5, 6, 7, 8, 9] # a list\n",
    "x1 = range(1, 10, 1) # a range\n",
    "x2 = np.arange(1, 10, 1)  # an array of integer numbers\n",
    "x3 = np.linspace(1, 9, 9)  # an array of float number\n",
    "x4 = np.arange(10)  # start from 0 to 9\n",
    "x5 = np.linspace(0, 100, 1000)\n",
    " \n",
    "y1 = x2 + x3 + 1 # not x0 + x1 + 1\n",
    "y2 = x2 ** 2 + x2 - 2\n",
    "y3 = x2 / x3"
   ]
  },
  {
   "cell_type": "code",
   "execution_count": 12,
   "metadata": {},
   "outputs": [
    {
     "name": "stdout",
     "output_type": "stream",
     "text": [
      "a\n",
      "a do\n",
      "a triple quote string\n",
      "\n",
      "Triple double quotes\n",
      "is usually used\n",
      "in multiple lines, such as documents\n",
      "\n",
      "g\n",
      "sardines\n",
      "40\n",
      "The meal costs 40 dollars\n"
     ]
    }
   ],
   "source": [
    "#%% string & indexing\n",
    "  \n",
    "s1 = 'a single quote string'\n",
    "s2 = \"a double quote string\"\n",
    "s3 = '''a triple quote string'''\n",
    "  \n",
    "print(s3[0])\n",
    "print(s2[:4])\n",
    "print(s3)\n",
    "  \n",
    "s4 = \"\"\"\n",
    "Triple double quotes\n",
    "is usually used\n",
    "in multiple lines, such as documents\n",
    "\"\"\"\n",
    "print(s4)\n",
    " \n",
    "# concatenate strings\n",
    "s5 = 'This is ' + s1\n",
    "  \n",
    "# string list\n",
    "str_list = ['r', 'g', 'b', 'k', 'y']\n",
    "print(str_list[1])\n",
    "  \n",
    "# Dictionaries\n",
    "meals = {'breakfast': 'sardines', 'lunch': 'salad', 'dinner': 'cake', 'cost':40}\n",
    "print(meals['breakfast'])\n",
    "print(meals['cost'])\n",
    "print('The meal costs {} dollars'.format(meals['cost']))  "
   ]
  },
  {
   "cell_type": "code",
   "execution_count": 13,
   "metadata": {},
   "outputs": [],
   "source": [
    "col_names = ['col1', 'col2', 'col3'] # string list\n",
    "col_names_join = ','.join(col_names) # convert to a string\n",
    "col_names_split = col_names_join.split(',') # convert a string to a list\n",
    " \n",
    "a_sentence = \"台北大學統計系\"\n",
    "where_am_I = a_sentence.find('統計')\n",
    "where_is_it = a_sentence.find('會計') # -1 means NOT FOUND"
   ]
  },
  {
   "cell_type": "code",
   "execution_count": 14,
   "metadata": {},
   "outputs": [],
   "source": [
    "from numpy import linalg\n",
    "import numpy as np \n",
    "import scipy.linalg as LA # scipy's linear algebra is better\n",
    " \n",
    "X = np.array([[1,2,3],[4,5,6]]) # a 2x3 matrix\n",
    "# check the information of X\n",
    "Xdim = X.ndim\n",
    "Xshape = X.shape\n",
    "Xsize = X.size\n",
    " \n",
    "a = X[0, 1]\n",
    "P = X * X # element by element multiplication\n",
    "Q = X / X # element by element division\n",
    "R = X @ X.T # XX'\n",
    " \n",
    "total_sum = X.sum() # X.mean()...\n",
    "row_sum = X.sum(axis = 1) # sum over each row\n",
    "col_sum = X.sum(axis = 0) # sum over each column\n",
    "# col_sum = np.sum(X, axis = 0) \n",
    " \n",
    "A = np.array([[1, 1, 1],[2, 4, 6],[5, 7, 6]])\n",
    "b = np.array([1, 2, 3])\n",
    "x =  LA.inv(A) @ b  # Ax = b\n",
    "xsol = LA.solve(A, b) # Ax = b\n",
    "I = A @ LA.inv(A) # double check what LA.inv(A) is\n",
    " \n",
    "A_square = linalg.matrix_power(A, 2) # nth power of a matrix\n",
    "A_square_root = LA.fractional_matrix_power(A, 0.5)\n",
    " \n",
    "B = np.vstack((A, b)) # 4 x 3\n",
    "C = np.hstack((A, b.reshape(3, 1))) # 3 x 4\n",
    " \n",
    "B_row = np.insert(A, 3, b, 0) # 3 is the position index; 0 is for row\n",
    "B_col = np.insert(A, 3, b, 1) # 3 is the position index; 1 is for column"
   ]
  },
  {
   "cell_type": "code",
   "execution_count": 15,
   "metadata": {},
   "outputs": [
    {
     "name": "stdout",
     "output_type": "stream",
     "text": [
      "True\n",
      "True\n",
      "TRUE\n",
      "INSIDE\n",
      "play\n"
     ]
    }
   ],
   "source": [
    "import numpy as np \n",
    "  \n",
    "x = np.array([1, 2, 5, 3, 2])\n",
    "x[x > 3] = 9 # replaced by 9; conditioned on x>3\n",
    "y = np.where(x > 3, 9, x)\n",
    "z = np.where(x >=3, 1, 0)\n",
    "#-------------------------------\n",
    "p = [] # p is a empty list\n",
    "print(not p)  # check if p is empty or not\n",
    "# print(p is None) \n",
    "# Check whether variable p is defined or not\n",
    "print('p' in locals())\n",
    "#-------------------------------\n",
    "a = 3\n",
    "if a > 1 and a < 5 :\n",
    "    print('TRUE')\n",
    "else :\n",
    "    print('FALSE')\n",
    "  \n",
    "if a > 5 or a < 1 :\n",
    "    print('OUTSIDE')\n",
    "else :\n",
    "    print('INSIDE')\n",
    "#-------------------------------\n",
    "# compact expression for if...else...\n",
    "flag = 1\n",
    "status = \"play\" if flag ==1 else \"stop\"\n",
    "print(status)"
   ]
  }
 ],
 "metadata": {
  "kernelspec": {
   "display_name": "Python 3.8.8 ('base')",
   "language": "python",
   "name": "python3"
  },
  "language_info": {
   "codemirror_mode": {
    "name": "ipython",
    "version": 3
   },
   "file_extension": ".py",
   "mimetype": "text/x-python",
   "name": "python",
   "nbconvert_exporter": "python",
   "pygments_lexer": "ipython3",
   "version": "3.8.8"
  },
  "orig_nbformat": 4,
  "vscode": {
   "interpreter": {
    "hash": "a077222d77dfe082b8f1dd562ad70e458ac2ab76993a0b248ab0476e32e9e8dd"
   }
  }
 },
 "nbformat": 4,
 "nbformat_minor": 2
}
